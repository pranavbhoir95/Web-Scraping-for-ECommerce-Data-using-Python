{
 "cells": [
  {
   "cell_type": "markdown",
   "id": "797f1d9e-a0c6-4e5c-b653-b9d7478145e9",
   "metadata": {},
   "source": [
    "-----------------------------------------**FIRST PYTHON MOVIE PROJECT (WEB SCRAPPING)**-------------------------------------------"
   ]
  },
  {
   "cell_type": "markdown",
   "id": "d58fe85e-1b29-48bb-a672-420fab2f1719",
   "metadata": {},
   "source": [
    "**INSTALLING ALL LIBRARY**"
   ]
  },
  {
   "cell_type": "code",
   "execution_count": 1,
   "id": "78c34a0d-295b-4201-b1cf-230bacdefc48",
   "metadata": {},
   "outputs": [
    {
     "name": "stdout",
     "output_type": "stream",
     "text": [
      "Requirement already satisfied: requests in c:\\users\\pranav\\anaconda3\\lib\\site-packages (2.31.0)\n",
      "Requirement already satisfied: charset-normalizer<4,>=2 in c:\\users\\pranav\\anaconda3\\lib\\site-packages (from requests) (2.0.4)\n",
      "Requirement already satisfied: idna<4,>=2.5 in c:\\users\\pranav\\anaconda3\\lib\\site-packages (from requests) (3.4)\n",
      "Requirement already satisfied: urllib3<3,>=1.21.1 in c:\\users\\pranav\\anaconda3\\lib\\site-packages (from requests) (2.0.7)\n",
      "Requirement already satisfied: certifi>=2017.4.17 in c:\\users\\pranav\\anaconda3\\lib\\site-packages (from requests) (2024.2.2)\n",
      "Note: you may need to restart the kernel to use updated packages.\n"
     ]
    }
   ],
   "source": [
    "pip install requests"
   ]
  },
  {
   "cell_type": "code",
   "execution_count": 2,
   "id": "d95ad6c3-8e50-40bd-9e29-f969ddafd688",
   "metadata": {},
   "outputs": [
    {
     "name": "stdout",
     "output_type": "stream",
     "text": [
      "Collecting bs4\n",
      "  Downloading bs4-0.0.2-py2.py3-none-any.whl.metadata (411 bytes)\n",
      "Requirement already satisfied: beautifulsoup4 in c:\\users\\pranav\\anaconda3\\lib\\site-packages (from bs4) (4.12.2)\n",
      "Requirement already satisfied: soupsieve>1.2 in c:\\users\\pranav\\anaconda3\\lib\\site-packages (from beautifulsoup4->bs4) (2.5)\n",
      "Downloading bs4-0.0.2-py2.py3-none-any.whl (1.2 kB)\n",
      "Installing collected packages: bs4\n",
      "Successfully installed bs4-0.0.2\n",
      "Note: you may need to restart the kernel to use updated packages.\n"
     ]
    }
   ],
   "source": [
    "pip install bs4"
   ]
  },
  {
   "cell_type": "markdown",
   "id": "68d08d1c-8ffa-4000-85aa-556ed35a70b9",
   "metadata": {},
   "source": [
    "**lxml : TO RUN THE CODE IN HTML LANGUAGES**"
   ]
  },
  {
   "cell_type": "code",
   "execution_count": 7,
   "id": "c6b4d283-94a8-4a06-8758-cc5bf61d4940",
   "metadata": {},
   "outputs": [
    {
     "name": "stdout",
     "output_type": "stream",
     "text": [
      "Requirement already satisfied: lxml in c:\\users\\pranav\\anaconda3\\lib\\site-packages (4.9.3)Note: you may need to restart the kernel to use updated packages.\n",
      "\n"
     ]
    }
   ],
   "source": [
    "pip install lxml"
   ]
  },
  {
   "cell_type": "code",
   "execution_count": 1,
   "id": "29feb9bd-4e26-46f2-af62-fc3c46ee6159",
   "metadata": {},
   "outputs": [],
   "source": [
    "import pandas as pd\n",
    "import lxml\n",
    "import requests\n",
    "from bs4 import BeautifulSoup"
   ]
  },
  {
   "cell_type": "code",
   "execution_count": 3,
   "id": "0e2e6aa4-06be-48f7-88da-ca26f4868629",
   "metadata": {},
   "outputs": [],
   "source": [
    "# Define headers to simulate a browser visit and set the default language to English\n",
    "headers = {\n",
    "    'Accept-Language': 'en-US,en;q=0.5',\n",
    "    'User-Agent': 'Mozilla/5.0 (Windows NT 6.3; Win64; x64) AppleWebKit/537.36 (KHTML, like Gecko) Chrome/99.0.4844.51 Safari/537.36'\n",
    "}\n",
    "\n",
    "\n",
    "# Define base URLs\n",
    "base_url = \"https://www.themoviedb.org\"\n",
    "Page_url = \"https://www.themoviedb.org/movie?page=\"\n",
    "\n",
    "#check website status code \n",
    "requests.get(\"https://www.themoviedb.org\",headers=headers)\n",
    "requests.get(\"https://www.themoviedb.org/movie?page=\",headers=headers)\n",
    "\n",
    "# Initialize an empty list to store URLs for pagination\n",
    "lst=[]\n",
    "\n",
    "# Generate URLs for the first 100 pages of movie listings\n",
    "for i in range(1,101):\n",
    "    lst.append(Page_url+str(i))\n",
    "    \n",
    "# Initialize a list to store all movie details\n",
    "all_movies_data=[]\n",
    "\n",
    "# Loop through each URL in the URL list   \n",
    "for url in lst:\n",
    "        # Get the source code of the current page\n",
    "        source_code = requests.get(url,headers=headers).text\n",
    "        # Parse the source code using BeautifulSoup\n",
    "        converted_data = BeautifulSoup(source_code, 'lxml')\n",
    "        \n",
    "        # Find all movie detail containers on the page\n",
    "        movie_details = converted_data.find_all('div', class_='card style_1')\n",
    "        \n",
    "        # Loop through each movie detail container\n",
    "        for pic in movie_details:\n",
    "            img = pic.find('img')\n",
    "            Movie_Name = img.attrs['alt']\n",
    "            Ratings = pic.find('div',class_='user_score_chart').get('data-percent')\n",
    "            Release_Date = pic.find('p').text\n",
    "            \n",
    "            # Extract the link for each movie\n",
    "            movie_link = base_url + pic.find('a')['href']\n",
    "        \n",
    "            # Navigate to the individual movie page\n",
    "            response = requests.get(movie_link,headers=headers).text\n",
    "            soup = BeautifulSoup(response,'lxml')\n",
    "            \n",
    "            # Extract duration\n",
    "            Durations_M = soup.find('span', class_=\"runtime\").text.strip() if soup.find('span', class_=\"runtime\") else \"N/A\"\n",
    "             \n",
    "            # Extract genres\n",
    "            Movie_Genre = soup.find(\"span\", class_=\"genres\").text.replace(\"\\n\", \"\").replace(\"\\xa0\", \" \") if soup.find(\"span\", class_=\"genres\") else \"N/A\"\n",
    "            \n",
    "            # Extract directors names\n",
    "            Directors_Name = []\n",
    "            directors = soup.find_all('li', class_='profile')\n",
    "            for director in directors:\n",
    "                if director.find('p', class_='character').text == \"Director\":\n",
    "                    Directors_Name.append(director.find('p').text)\n",
    "                    Directors_Name = Directors_Name if Directors_Name else \"N/A\"\n",
    "\n",
    "            # Store the details in a dictionary\n",
    "            movie_data = {\n",
    "                \"Movie_Name\": Movie_Name,\n",
    "                \"Release_Date\": Release_Date,\n",
    "                \"Ratings\": Ratings,\n",
    "                \"Durations_M\": Durations_M,\n",
    "                \"Movie_Genre\": Movie_Genre,\n",
    "                \"Directors_Name\": Directors_Name\n",
    "            }\n",
    "            \n",
    "            # Append the dictionary to the list of all movies\n",
    "            all_movies_data.append(movie_data)"
   ]
  },
  {
   "cell_type": "code",
   "execution_count": 4,
   "id": "e29a9109-5932-4e30-a044-61158c967146",
   "metadata": {},
   "outputs": [],
   "source": [
    "# Convert the list of movie details to a DataFrame\n",
    "df = pd.DataFrame(all_movies_data)"
   ]
  },
  {
   "cell_type": "code",
   "execution_count": 5,
   "id": "5ed2aedf-9084-4813-9f8a-a57153b6f2d6",
   "metadata": {
    "scrolled": true
   },
   "outputs": [
    {
     "data": {
      "text/html": [
       "<div>\n",
       "<style scoped>\n",
       "    .dataframe tbody tr th:only-of-type {\n",
       "        vertical-align: middle;\n",
       "    }\n",
       "\n",
       "    .dataframe tbody tr th {\n",
       "        vertical-align: top;\n",
       "    }\n",
       "\n",
       "    .dataframe thead th {\n",
       "        text-align: right;\n",
       "    }\n",
       "</style>\n",
       "<table border=\"1\" class=\"dataframe\">\n",
       "  <thead>\n",
       "    <tr style=\"text-align: right;\">\n",
       "      <th></th>\n",
       "      <th>Movie_Name</th>\n",
       "      <th>Release_Date</th>\n",
       "      <th>Ratings</th>\n",
       "      <th>Durations_M</th>\n",
       "      <th>Movie_Genre</th>\n",
       "      <th>Directors_Name</th>\n",
       "    </tr>\n",
       "  </thead>\n",
       "  <tbody>\n",
       "    <tr>\n",
       "      <th>0</th>\n",
       "      <td>Inside Out 2</td>\n",
       "      <td>Jun 14, 2024</td>\n",
       "      <td>77</td>\n",
       "      <td>1h 37m</td>\n",
       "      <td>Animation, Family, Adventure, Comedy, Drama</td>\n",
       "      <td>[]</td>\n",
       "    </tr>\n",
       "    <tr>\n",
       "      <th>1</th>\n",
       "      <td>Despicable Me 4</td>\n",
       "      <td>Jul 03, 2024</td>\n",
       "      <td>75</td>\n",
       "      <td>1h 35m</td>\n",
       "      <td>Animation, Family, Comedy, Action</td>\n",
       "      <td>[Chris Renaud]</td>\n",
       "    </tr>\n",
       "    <tr>\n",
       "      <th>2</th>\n",
       "      <td>The Garfield Movie</td>\n",
       "      <td>Apr 30, 2024</td>\n",
       "      <td>73</td>\n",
       "      <td>1h 41m</td>\n",
       "      <td>Animation, Comedy, Family, Adventure</td>\n",
       "      <td>[Mark Dindal]</td>\n",
       "    </tr>\n",
       "    <tr>\n",
       "      <th>3</th>\n",
       "      <td>Furiosa: A Mad Max Saga</td>\n",
       "      <td>May 22, 2024</td>\n",
       "      <td>77</td>\n",
       "      <td>2h 29m</td>\n",
       "      <td>Action, Adventure, Science Fiction</td>\n",
       "      <td>[]</td>\n",
       "    </tr>\n",
       "    <tr>\n",
       "      <th>4</th>\n",
       "      <td>Kingdom of the Planet of the Apes</td>\n",
       "      <td>May 08, 2024</td>\n",
       "      <td>71</td>\n",
       "      <td>2h 25m</td>\n",
       "      <td>Science Fiction, Adventure, Action</td>\n",
       "      <td>[Wes Ball]</td>\n",
       "    </tr>\n",
       "    <tr>\n",
       "      <th>...</th>\n",
       "      <td>...</td>\n",
       "      <td>...</td>\n",
       "      <td>...</td>\n",
       "      <td>...</td>\n",
       "      <td>...</td>\n",
       "      <td>...</td>\n",
       "    </tr>\n",
       "    <tr>\n",
       "      <th>1995</th>\n",
       "      <td>Harry Potter 20th Anniversary: Return to Hogwarts</td>\n",
       "      <td>Jan 01, 2022</td>\n",
       "      <td>73</td>\n",
       "      <td>1h 43m</td>\n",
       "      <td>Documentary</td>\n",
       "      <td>[Giorgio Testi, Eran Creevy, Casey Patterson, ...</td>\n",
       "    </tr>\n",
       "    <tr>\n",
       "      <th>1996</th>\n",
       "      <td>Young Mother</td>\n",
       "      <td>Jul 31, 2013</td>\n",
       "      <td>50</td>\n",
       "      <td>1h 23m</td>\n",
       "      <td>Comedy, Romance</td>\n",
       "      <td>[Kong Ja-kwan]</td>\n",
       "    </tr>\n",
       "    <tr>\n",
       "      <th>1997</th>\n",
       "      <td>Step Up All In</td>\n",
       "      <td>Jul 16, 2014</td>\n",
       "      <td>68</td>\n",
       "      <td>1h 52m</td>\n",
       "      <td>Romance, Drama, Music</td>\n",
       "      <td>[Trish Sie]</td>\n",
       "    </tr>\n",
       "    <tr>\n",
       "      <th>1998</th>\n",
       "      <td>The Boys in the Boat</td>\n",
       "      <td>Dec 25, 2023</td>\n",
       "      <td>74</td>\n",
       "      <td>2h 4m</td>\n",
       "      <td>Drama, History</td>\n",
       "      <td>[George Clooney]</td>\n",
       "    </tr>\n",
       "    <tr>\n",
       "      <th>1999</th>\n",
       "      <td>Muppets Most Wanted</td>\n",
       "      <td>Mar 20, 2014</td>\n",
       "      <td>63</td>\n",
       "      <td>1h 47m</td>\n",
       "      <td>Comedy, Adventure, Crime, Family</td>\n",
       "      <td>[]</td>\n",
       "    </tr>\n",
       "  </tbody>\n",
       "</table>\n",
       "<p>2000 rows × 6 columns</p>\n",
       "</div>"
      ],
      "text/plain": [
       "                                             Movie_Name  Release_Date Ratings  \\\n",
       "0                                          Inside Out 2  Jun 14, 2024      77   \n",
       "1                                       Despicable Me 4  Jul 03, 2024      75   \n",
       "2                                    The Garfield Movie  Apr 30, 2024      73   \n",
       "3                               Furiosa: A Mad Max Saga  May 22, 2024      77   \n",
       "4                     Kingdom of the Planet of the Apes  May 08, 2024      71   \n",
       "...                                                 ...           ...     ...   \n",
       "1995  Harry Potter 20th Anniversary: Return to Hogwarts  Jan 01, 2022      73   \n",
       "1996                                       Young Mother  Jul 31, 2013      50   \n",
       "1997                                     Step Up All In  Jul 16, 2014      68   \n",
       "1998                               The Boys in the Boat  Dec 25, 2023      74   \n",
       "1999                                Muppets Most Wanted  Mar 20, 2014      63   \n",
       "\n",
       "     Durations_M                                  Movie_Genre  \\\n",
       "0         1h 37m  Animation, Family, Adventure, Comedy, Drama   \n",
       "1         1h 35m            Animation, Family, Comedy, Action   \n",
       "2         1h 41m         Animation, Comedy, Family, Adventure   \n",
       "3         2h 29m           Action, Adventure, Science Fiction   \n",
       "4         2h 25m           Science Fiction, Adventure, Action   \n",
       "...          ...                                          ...   \n",
       "1995      1h 43m                                  Documentary   \n",
       "1996      1h 23m                              Comedy, Romance   \n",
       "1997      1h 52m                        Romance, Drama, Music   \n",
       "1998       2h 4m                               Drama, History   \n",
       "1999      1h 47m             Comedy, Adventure, Crime, Family   \n",
       "\n",
       "                                         Directors_Name  \n",
       "0                                                    []  \n",
       "1                                        [Chris Renaud]  \n",
       "2                                         [Mark Dindal]  \n",
       "3                                                    []  \n",
       "4                                            [Wes Ball]  \n",
       "...                                                 ...  \n",
       "1995  [Giorgio Testi, Eran Creevy, Casey Patterson, ...  \n",
       "1996                                     [Kong Ja-kwan]  \n",
       "1997                                        [Trish Sie]  \n",
       "1998                                   [George Clooney]  \n",
       "1999                                                 []  \n",
       "\n",
       "[2000 rows x 6 columns]"
      ]
     },
     "execution_count": 5,
     "metadata": {},
     "output_type": "execute_result"
    }
   ],
   "source": [
    "df"
   ]
  },
  {
   "cell_type": "code",
   "execution_count": 6,
   "id": "15aa9030-ed7e-43e8-aba1-82a6fd251442",
   "metadata": {},
   "outputs": [],
   "source": [
    "#Converting the data into excel sheet\n",
    "df.to_excel('Movies_Data.xlsx')"
   ]
  },
  {
   "cell_type": "code",
   "execution_count": null,
   "id": "921b0186-2155-42da-8258-e1a97a6e64c7",
   "metadata": {},
   "outputs": [],
   "source": []
  },
  {
   "cell_type": "code",
   "execution_count": null,
   "id": "43de1846-cac3-45a3-92e8-07734f05a473",
   "metadata": {},
   "outputs": [],
   "source": []
  }
 ],
 "metadata": {
  "kernelspec": {
   "display_name": "Python 3 (ipykernel)",
   "language": "python",
   "name": "python3"
  },
  "language_info": {
   "codemirror_mode": {
    "name": "ipython",
    "version": 3
   },
   "file_extension": ".py",
   "mimetype": "text/x-python",
   "name": "python",
   "nbconvert_exporter": "python",
   "pygments_lexer": "ipython3",
   "version": "3.11.7"
  }
 },
 "nbformat": 4,
 "nbformat_minor": 5
}
